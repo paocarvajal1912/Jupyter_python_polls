{
 "cells": [
  {
   "cell_type": "markdown",
   "id": "0cfcc853",
   "metadata": {},
   "source": [
    "# Manipulation of lists\n",
    "1) Standard deviation. \n",
    "\n",
    "        1.1 Use np.std(), or \n",
    "        \n",
    "        1.2 Transform the list to a DataFrame and perform stdev()\n",
    "        \n",
    "2) Sorting: \n",
    "\n",
    "        2.1 use data.sort() on the list. Notice that do it \"in place\"\n",
    "        \n",
    "        2.2 on the dataframe, you can apply df.sort() and it is not done in place unless you say it\n",
    "\n",
    "3) List comprehension: are used instead of loops, being more elegant and short to apply\n",
    "\n",
    "4) Sort of lists:\n",
    "\n",
    "    4.1 `.sort(reverse=False)`\n",
    "    \n",
    "    4.2 For nested list we can use the key argument `.sort(key= lambda x :x[1], reverse= True)`"
   ]
  },
  {
   "cell_type": "code",
   "execution_count": 57,
   "id": "c6ef86b0",
   "metadata": {},
   "outputs": [],
   "source": [
    "import requests\n",
    "import numpy as np\n",
    "import pandas as pd\n"
   ]
  },
  {
   "cell_type": "code",
   "execution_count": 58,
   "id": "317ce021",
   "metadata": {},
   "outputs": [
    {
     "name": "stdout",
     "output_type": "stream",
     "text": [
      "[10, 12, 23, 23, 16, 3242342, 23, 21, 16, 45, 100, 2, 4, 6, 10, 200, 34, 1123, 12, 14, 5, 3, 66, 12, 6, 3, 1, 3, 2224234]\n"
     ]
    }
   ],
   "source": [
    "# Get information from an API in Json format. I select the field 'data', which comes as a list in the dictionary\n",
    "r = requests.get('https://coderbyte.com/api/challenges/json/list-numbers')\n",
    "print(r.json()['data'])"
   ]
  },
  {
   "cell_type": "code",
   "execution_count": 60,
   "id": "3caa003e",
   "metadata": {},
   "outputs": [
    {
     "data": {
      "text/plain": [
       "717855.433875422"
      ]
     },
     "execution_count": 60,
     "metadata": {},
     "output_type": "execute_result"
    }
   ],
   "source": [
    "# Calculation of the Stadard deviation, with 1 degree of freedom (umbiased estimator)\n",
    "data=r.json()['data']\n",
    "standard_deviation_all = np.std(data, ddof=1)"
   ]
  },
  {
   "cell_type": "code",
   "execution_count": 61,
   "id": "3f419a5a",
   "metadata": {},
   "outputs": [
    {
     "name": "stdout",
     "output_type": "stream",
     "text": [
      "[3242342, 2224234, 1123, 200, 100, 66, 45, 34, 23, 23, 23, 21, 16, 16, 14, 12, 12, 12, 10, 10, 6, 6, 5, 4, 3, 3, 3, 2, 1]\n",
      "717855 215\n"
     ]
    }
   ],
   "source": [
    "# Recognition and elimination of 2 larger numbers\n",
    "# Recognition\n",
    "data.sort(reverse=True)\n",
    "print(data)\n",
    "\n",
    "data_filtered = data[2:]\n",
    "standard_deviation_filtered = np.std(data_filtered, ddof=1)\n",
    "\n",
    "# Print solution\n",
    "print(f\"{standard_deviation_all:.0f} {standard_deviation_filtered:.0f}\")"
   ]
  },
  {
   "cell_type": "markdown",
   "id": "fc790f8f",
   "metadata": {},
   "source": [
    "## List Comprehensions\n",
    "\n",
    "For example, look here:\n",
    "https://www.programiz.com/python-programming/list-comprehension#:~:text=Points%20to%20Remember-,List%20comprehension%20is%20an%20elegant%20way%20to%20define%20and%20create,that%20code%20is%20user%2Dfriendly."
   ]
  },
  {
   "cell_type": "code",
   "execution_count": 2,
   "id": "63844e2e",
   "metadata": {},
   "outputs": [
    {
     "name": "stdout",
     "output_type": "stream",
     "text": [
      "['W', 'o', 'n', 'd', 'e', 'r', 'f', 'u', 'l']\n"
     ]
    }
   ],
   "source": [
    "# Example 1: separating the \n",
    "word_spelling = []\n",
    "\n",
    "for letter in 'Wonderful':\n",
    "    word_spelling.append(letter)\n",
    "\n",
    "print(word_spelling)"
   ]
  },
  {
   "cell_type": "code",
   "execution_count": 4,
   "id": "561f1a1f",
   "metadata": {},
   "outputs": [
    {
     "name": "stdout",
     "output_type": "stream",
     "text": [
      "['W', 'o', 'n', 'd', 'e', 'r', 'f', 'u', 'l']\n"
     ]
    }
   ],
   "source": [
    "# Equivalent as list comprehension\n",
    "word_spelling = [letter for letter in 'Wonderful' ]\n",
    "print(word_spelling)"
   ]
  },
  {
   "cell_type": "code",
   "execution_count": 5,
   "id": "6db9f5cf",
   "metadata": {},
   "outputs": [
    {
     "data": {
      "text/plain": [
       "['W', 'o', 'n', 'd', 'e', 'r', 'f', 'u', 'l']"
      ]
     },
     "execution_count": 5,
     "metadata": {},
     "output_type": "execute_result"
    }
   ],
   "source": [
    "# An even simpler way\n",
    "list(\"Wonderful\")"
   ]
  },
  {
   "cell_type": "code",
   "execution_count": 11,
   "id": "9ee0556e",
   "metadata": {},
   "outputs": [
    {
     "name": "stdout",
     "output_type": "stream",
     "text": [
      "[0, 2, 4, 6, 8, 10, 12, 14, 16, 18]\n"
     ]
    }
   ],
   "source": [
    "# Example 2\n",
    "# Applying a condition\n",
    "number_list = [ x for x in range(20) if x % 2 == 0]\n",
    "print(number_list)"
   ]
  },
  {
   "cell_type": "code",
   "execution_count": 14,
   "id": "72768e6f",
   "metadata": {},
   "outputs": [
    {
     "name": "stdout",
     "output_type": "stream",
     "text": [
      "['o', 'n', 'd', 'e', 'r', 'f', 'u', 'l']\n"
     ]
    }
   ],
   "source": [
    "word_spelling = [letter for letter in 'Wonderful' if letter!='W' ]\n",
    "print(word_spelling)"
   ]
  },
  {
   "cell_type": "code",
   "execution_count": 19,
   "id": "33bcf63b",
   "metadata": {},
   "outputs": [
    {
     "name": "stdout",
     "output_type": "stream",
     "text": [
      "[0, 10, 20, 30, 40, 50, 60, 70, 80, 90]\n"
     ]
    }
   ],
   "source": [
    "# Example 3\n",
    "# Nested if\n",
    "num_list = [y for y in range(100) if y % 2 == 0  if y % 5 == 0]\n",
    "print(num_list)"
   ]
  },
  {
   "cell_type": "code",
   "execution_count": 22,
   "id": "e08e3d2a",
   "metadata": {},
   "outputs": [
    {
     "name": "stdout",
     "output_type": "stream",
     "text": [
      "[[1, 3, 5, 7], [2, 4, 6, 8]]\n"
     ]
    }
   ],
   "source": [
    "# Example 4\n",
    "# Transpose of a matrix\n",
    "matrix = [[1, 2], [3,4], [5,6], [7,8]]\n",
    "transpose = [[row[i] for row in matrix] for i in range(2)]\n",
    "print (transpose)"
   ]
  },
  {
   "cell_type": "code",
   "execution_count": 21,
   "id": "c40b294a",
   "metadata": {},
   "outputs": [
    {
     "data": {
      "text/plain": [
       "[[1, 2], [3, 4], [5, 6], [7, 8]]"
      ]
     },
     "execution_count": 21,
     "metadata": {},
     "output_type": "execute_result"
    }
   ],
   "source": [
    "matrix = [[1, 2], [3,4], [5,6], [7,8]]\n",
    "matrix "
   ]
  },
  {
   "cell_type": "code",
   "execution_count": 23,
   "id": "b2b2d2e7",
   "metadata": {},
   "outputs": [
    {
     "name": "stdout",
     "output_type": "stream",
     "text": [
      "0\n",
      "1\n"
     ]
    }
   ],
   "source": [
    "for i in range(2):\n",
    "    print(i)"
   ]
  },
  {
   "cell_type": "code",
   "execution_count": 68,
   "id": "e0801e44",
   "metadata": {},
   "outputs": [],
   "source": [
    "# Generating permutations\n",
    "x=1\n",
    "y=1\n",
    "z=1\n",
    "n=2\n",
    "\n",
    "x_iterative = range(x+1)\n",
    "y_iterative = range(y+1)\n",
    "z_iterative = range(z+1)\n",
    "\n",
    "number_of_permutations = x*y*z\n",
    "#print(f\"The number of permutations is {number_of_permutations}\")\n",
    "\n",
    "base_list=[[x,y,z]] \n",
    "\n",
    "permutations=[[x_element,y_element,z_element] for x_element in x_iterative for y_element in y_iterative for z_element in z_iterative] \n",
    "#permutations"
   ]
  },
  {
   "cell_type": "code",
   "execution_count": 70,
   "id": "a04ba74c",
   "metadata": {},
   "outputs": [
    {
     "name": "stdout",
     "output_type": "stream",
     "text": [
      "[[0, 0, 0], [0, 0, 1], [0, 1, 0], [1, 0, 0], [1, 1, 1]]\n"
     ]
    }
   ],
   "source": [
    "# Print the permutations that do not sum up to n\n",
    "print([element for element in permutations if sum(element)!=n])"
   ]
  },
  {
   "cell_type": "code",
   "execution_count": null,
   "id": "c65b74c5",
   "metadata": {},
   "outputs": [],
   "source": [
    "# HakerRank problem transforming characters"
   ]
  },
  {
   "cell_type": "code",
   "execution_count": 17,
   "id": "cbbef032",
   "metadata": {},
   "outputs": [
    {
     "data": {
      "text/plain": [
       "i    2\n",
       "v    2\n",
       "b    1\n",
       "dtype: int64"
      ]
     },
     "execution_count": 17,
     "metadata": {},
     "output_type": "execute_result"
    }
   ],
   "source": [
    "import math\n",
    "import os\n",
    "import random\n",
    "import re\n",
    "import sys\n",
    "import pandas as pd    # BUT IT ASK NOT TO USE PANDAS!! Make it so much harder! but allow to learn more about list sort\n",
    "\n",
    "s = \"jdivbryeionv\"\n",
    "    \n",
    "\n",
    "# First let's find the distinctint characters\n",
    "letters=list(s)\n",
    "letters_df = pd.DataFrame(letters)\n",
    "salida=letters_df.value_counts()\n",
    "\n",
    "letters_selected=salida[0:3,]\n",
    "letters_selected\n"
   ]
  },
  {
   "cell_type": "code",
   "execution_count": 104,
   "id": "fee84a41",
   "metadata": {},
   "outputs": [],
   "source": [
    "import math\n",
    "import os\n",
    "import random\n",
    "import re\n",
    "import sys\n",
    "\n",
    "# The key is two do a double sorting. First by the letter, then by the numbers. \n",
    "# The difficulty is that the sort is in the contrary direction, \n",
    "# so it is necesary to use the \"key\" argument in the sort function\n",
    "\n",
    "s = \"cqwertyuiopasdfghjklzxcvbnm\"\n",
    "    \n",
    "\n",
    "# First let's find the distinctint characters\n",
    "letters=list(s)\n",
    "unique_values=set(letters)\n",
    "\n",
    "unique_values=list(unique_values)\n",
    "unique_values.sort()\n",
    "#unique_values"
   ]
  },
  {
   "cell_type": "code",
   "execution_count": 102,
   "id": "23a05ab7",
   "metadata": {},
   "outputs": [
    {
     "name": "stdout",
     "output_type": "stream",
     "text": [
      "[[1, 'a'], [1, 'b'], [2, 'c'], [1, 'd'], [1, 'e'], [1, 'f'], [1, 'g'], [1, 'h'], [1, 'i'], [1, 'j'], [1, 'k'], [1, 'l'], [1, 'm'], [1, 'n'], [1, 'o'], [1, 'p'], [1, 'q'], [1, 'r'], [1, 's'], [1, 't'], [1, 'u'], [1, 'v'], [1, 'w'], [1, 'x'], [1, 'y'], [1, 'z']]\n",
      "[[2, 'c'], [1, 'a'], [1, 'b'], [1, 'd'], [1, 'e'], [1, 'f'], [1, 'g'], [1, 'h'], [1, 'i'], [1, 'j'], [1, 'k'], [1, 'l'], [1, 'm'], [1, 'n'], [1, 'o'], [1, 'p'], [1, 'q'], [1, 'r'], [1, 's'], [1, 't'], [1, 'u'], [1, 'v'], [1, 'w'], [1, 'x'], [1, 'y'], [1, 'z']]\n"
     ]
    }
   ],
   "source": [
    "# Now we count letter by letter\n",
    "count=[]\n",
    "i=0\n",
    "for letter in unique_values:\n",
    "    count.append([letters.count(letter), letter])\n",
    "\n",
    "print(count)\n",
    "\n",
    "# Sort the list by the value of the first position in the list (from the higher number to the lowest)\n",
    "count.sort(key = lambda x: x[0], reverse=True)\n",
    "print(count)\n",
    "\n",
    "# Validation of constraints\n",
    "if len(s)<3 or len(s)>10000:\n",
    "    print(\"invalid case\")\n",
    "    quit()\n",
    "    \n",
    "if len(unique_values)<3:\n",
    "    print(\"invalid case\")\n",
    "    quit()\n"
   ]
  },
  {
   "cell_type": "code",
   "execution_count": 103,
   "id": "9a1e7d07",
   "metadata": {},
   "outputs": [
    {
     "name": "stdout",
     "output_type": "stream",
     "text": [
      "[[2, 'c'], [1, 'a'], [1, 'b']]\n",
      "[[2, 'c'], [1, 'a'], [1, 'b']]\n"
     ]
    }
   ],
   "source": [
    "# Select the first 3\n",
    "selection=count[0:3]\n",
    "print(selection)\n",
    "          "
   ]
  },
  {
   "cell_type": "code",
   "execution_count": null,
   "id": "1551e5f9",
   "metadata": {},
   "outputs": [],
   "source": [
    "2*2"
   ]
  },
  {
   "cell_type": "code",
   "execution_count": null,
   "id": "aa311807",
   "metadata": {},
   "outputs": [],
   "source": []
  }
 ],
 "metadata": {
  "kernelspec": {
   "display_name": "Python (dev)",
   "language": "python",
   "name": "dev"
  },
  "language_info": {
   "codemirror_mode": {
    "name": "ipython",
    "version": 3
   },
   "file_extension": ".py",
   "mimetype": "text/x-python",
   "name": "python",
   "nbconvert_exporter": "python",
   "pygments_lexer": "ipython3",
   "version": "3.7.10"
  }
 },
 "nbformat": 4,
 "nbformat_minor": 5
}
